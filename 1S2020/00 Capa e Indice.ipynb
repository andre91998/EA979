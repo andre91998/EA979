{
 "cells": [
  {
   "cell_type": "markdown",
   "metadata": {},
   "source": [
    "# EA979 - Introd. Computação Gráfica e Processamento de Imagem\n",
    "## Primeiro semestre de 2020\n",
    "*Leticia Rittner*\n"
   ]
  },
  {
   "cell_type": "markdown",
   "metadata": {},
   "source": [
    "## Conteúdo\n",
    "\n",
    "### Introdução ao Processamento de Imagens\n",
    "\n",
    "1. [Overview](01 Processamento Imagens.ipynb)\n",
    "\n",
    "### Introdução às Imagens digitais\n",
    "    \n",
    "1. [Introdução ao NumPy](02 Aprendendo Numpy.ipynb) \n",
    "2. [Manipulando imagens: abrir, salvar, visualizar, criar](03 Lendo e Visualizando Imagens.ipynb)\n",
    "3. [Geração de imagens sintéticas] \t\n",
    "\n",
    "### Transformações radiométricas (ponto-a-ponto)\n",
    "\n",
    "1. [Histograma da Imagem]\n",
    "2. [Transformação de Intensidade]\n",
    "3. [Tutorial sobre equalização de histograma]\n",
    "4. [Tutorial equalização de histograma por montagem de mosaico]\n",
    "5. [Transformações em cores]\n",
    "\n",
    "### Transformações espaciais (vizinhança)\n",
    "\n",
    "1. [Filtragem no domínio espacial]\n",
    "2. [Convolução como média ponderada de translações da imagem]\n",
    "\n",
    "### Transformações no domínio da frequência - Transformada de Fourier\n",
    "\n",
    "1. [Geração de ondas senoidais 1D e 2D]\n",
    "2. [Translação periódica]\n",
    "3. [Propriedades da DFT]\n",
    "4. [Teorema da Convolução]\n",
    "4. [Filtros em frequência]\n",
    "5. [Correlação de fase]\n",
    "\n",
    "### Segmentação\n",
    "\n",
    "1. [Segmentação por Otsu]\n",
    "\n"
   ]
  },
  {
   "cell_type": "markdown",
   "metadata": {},
   "source": [
    "## Enunciados dos exercícios\n",
    "\n",
    "- [Exercício 1 - Aprendendo Numpy](EA979A_Ex01_Aprendendo Numpy.ipynb)"
   ]
  },
  {
   "cell_type": "markdown",
   "metadata": {},
   "source": [
    "## Links úteis\n",
    "\n",
    "- [Jupyter Notebook - documentação](http://jupyter-notebook.readthedocs.io/en/latest/notebook.html)\n",
    "- [Jupyter notebook - tips and tricks](https://www.dataquest.io/blog/jupyter-notebook-tips-tricks-shortcuts/)\n",
    "- [Tutorial breve - Python](../deliver/tutorial-python.ipynb)\n",
    "- [Tutorial breve - NumPy](../deliver/tutorial-numpy.ipynb)"
   ]
  }
 ],
 "metadata": {
  "anaconda-cloud": {},
  "kernelspec": {
   "display_name": "Python 3",
   "language": "python",
   "name": "python3"
  },
  "language_info": {
   "codemirror_mode": {
    "name": "ipython",
    "version": 3
   },
   "file_extension": ".py",
   "mimetype": "text/x-python",
   "name": "python",
   "nbconvert_exporter": "python",
   "pygments_lexer": "ipython3",
   "version": "3.6.1"
  }
 },
 "nbformat": 4,
 "nbformat_minor": 1
}
