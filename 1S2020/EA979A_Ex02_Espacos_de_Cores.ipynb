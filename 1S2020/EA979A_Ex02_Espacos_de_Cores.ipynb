{
 "cells": [
  {
   "cell_type": "markdown",
   "metadata": {},
   "source": [
    "# Ex02 - Explorando os espaços de cores\n"
   ]
  },
  {
   "cell_type": "markdown",
   "metadata": {},
   "source": [
    "1. **Explorando diferentes espaços de cores:** Abra uma imagem colorida (use as imagens existentes no diretório *data*) e visualize as 3 bandas RGB. Converta para uma imagem em níveis de cinza usando vários métodos e encontre uma forma (quantitativa) de comparar as diversas imagens em níveis de cinza obtidas. Alguns dos métodos de conversão de uma imagem colorida para uma imagem em níveis de cinza:\n",
    "    - convert(L) do PIL;\n",
    "    - médias das bandas R, G, B;\n",
    "    - média ponderada das bandas R, G, B: procure qual a poderação mais utilizada;"
   ]
  },
  {
   "cell_type": "code",
   "execution_count": null,
   "metadata": {
    "collapsed": true
   },
   "outputs": [],
   "source": []
  }
 ],
 "metadata": {
  "kernelspec": {
   "display_name": "Python 3",
   "language": "python",
   "name": "python3"
  },
  "language_info": {
   "codemirror_mode": {
    "name": "ipython",
    "version": 3
   },
   "file_extension": ".py",
   "mimetype": "text/x-python",
   "name": "python",
   "nbconvert_exporter": "python",
   "pygments_lexer": "ipython3",
   "version": "3.6.1"
  }
 },
 "nbformat": 4,
 "nbformat_minor": 2
}
