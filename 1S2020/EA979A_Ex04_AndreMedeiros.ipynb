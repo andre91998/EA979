{
 "cells": [
  {
   "cell_type": "markdown",
   "metadata": {},
   "source": [
    "# Ex04 - Filtragem em frequência"
   ]
  },
  {
   "cell_type": "markdown",
   "metadata": {},
   "source": [
    "Neste exercício vamos testar a filtragem no Domínio da Frequência utilizando a Transformada Discreta de Fourier (DFT). "
   ]
  },
  {
   "cell_type": "markdown",
   "metadata": {},
   "source": [
    "### Parte 1 - DFT e DFT inversa\n",
    "\n",
    "Primeiro, vamos exercitar o cálculo e a visualização da DFT e DFT inversa. Também vamos verificar que a DFT inversa da DFT de uma imagem é a própria imagem, de acordo com as propriedades da Transformada de Fourier. "
   ]
  },
  {
   "cell_type": "code",
   "execution_count": null,
   "metadata": {},
   "outputs": [],
   "source": [
    "import numpy as np\n",
    "import sys,os\n",
    "ea979path = os.path.abspath('../../')\n",
    "if ea979path not in sys.path:\n",
    "    sys.path.append(ea979path)\n",
    "import ea979.src as ia\n",
    "%matplotlib inline\n",
    "import matplotlib.image as mpimg\n",
    "import matplotlib.pyplot as plt\n",
    "import skimage.filters as skf"
   ]
  },
  {
   "cell_type": "markdown",
   "metadata": {},
   "source": [
    "Para comprovar, usaremos a imagem do cameraman. Primeiro, iremos calcular a DFT da imagem usando a função fft2 do Numpy ([veja a documentação](https://docs.scipy.org/doc/numpy/reference/generated/numpy.fft.fft2.html)). E, para visualizar o espectro, utilizaremos a função dftview da biblioteca ea979. O que esta função faz é calcular o log da magnitude e depois transladar a transformada para centralizá-la ([ea979/dftview](../src/dftview.ipynb))."
   ]
  },
  {
   "cell_type": "code",
   "execution_count": null,
   "metadata": {},
   "outputs": [],
   "source": [
    "f = mpimg.imread('../data/cameraman.tif') #changed to cameraman.tif to follow above: \"usaremos a imagem do cameraman\"\n",
    "\n",
    "F = np.fft.fft2(f) #apply fft to original image\n",
    "plt.figure(1, figsize=(14,8))\n",
    "\n",
    "plt.subplot(1,2,1)\n",
    "plt.imshow(f, cmap='gray')\n",
    "plt.subplot(1,2,2)\n",
    "plt.imshow(ia.dftview(F), cmap='gray')"
   ]
  },
  {
   "cell_type": "markdown",
   "metadata": {},
   "source": [
    "#### 1.1 Visualizando a DFT de várias formas\n",
    "Vamos tentar visualizar a DFT sem usar a função pronta dftview. Visualize primeiro a Transformada de Fourier sem centralizá-la e sem usar o log. Depois visualize centralizando, ainda sem o log. E por último, visualize com dftview. Plote as 3 imagens, uma ao lado da outra para poder compará-las."
   ]
  },
  {
   "cell_type": "markdown",
   "metadata": {},
   "source": [
    "First, let's see what happens when we execute a Discrete Fourier Transform (DFT) on an image, but don't shift the result and don't apply a logarithmic transformation."
   ]
  },
  {
   "cell_type": "code",
   "execution_count": null,
   "metadata": {},
   "outputs": [],
   "source": [
    "F = np.absolute(np.fft.fft2(f))  #apply fft to original image and take abs value to not have complex data\n",
    "F *= 255.0 / F.max() #normalize between 0 and 255\n",
    "\n",
    "plt.imshow(F, cmap = 'gray')\n"
   ]
  },
  {
   "cell_type": "markdown",
   "metadata": {},
   "source": [
    "As we can see, we have not yet obtained the images spectrum (as desired). We can see that the DC-value is by far the largest component of the image. However, the dynamic range of the Fourier coefficients (i.e. the intensity values in the Fourier image) is too large to be displayed on the screen, therefore all other values appear as black."
   ]
  },
  {
   "attachments": {},
   "cell_type": "markdown",
   "metadata": {},
   "source": [
    "   Now we want to center the DC component. If we consider the Fourier Transform: \n",
    "![fourier.PNG](fourier.PNG)\n",
    "      The value F(0,0) is refered to as the dc coefficient. If u=v=0: \n",
    "![fourier2.PNG](fourier2.PNG)\n",
    "    Basically, F(0,0) is the average intensity of the image. To center this component we need to shift the above result, to center the DFT spectrum. Basically, what this shift does is swap the four quadrants. The above result looks like this: \n",
    "![original.PNG](original.PNG) \n",
    "    After the shift, we will have:\n",
    "![swap.PNG](swap.PNG)"
   ]
  },
  {
   "cell_type": "code",
   "execution_count": null,
   "metadata": {},
   "outputs": [],
   "source": [
    "F = np.fft.fftshift(F) #apply shift to the previous image\n",
    "\n",
    "plt.imshow(F, cmap = 'gray')"
   ]
  },
  {
   "cell_type": "markdown",
   "metadata": {},
   "source": [
    "As we can see, the shift has centered the DFT spectrum (we can now see F(0,0)."
   ]
  },
  {
   "cell_type": "markdown",
   "metadata": {},
   "source": [
    "Now, let's re-execute the ia.dftview method on our original image (\"f\"). Remember that this method does what was done above, but also applies a logarithmic transformation, to obtain the desired spectrum below:"
   ]
  },
  {
   "cell_type": "code",
   "execution_count": null,
   "metadata": {},
   "outputs": [],
   "source": [
    "F = ia.dftview(np.fft.fft2(f)) #apply fft to original image, apply log transf., take absolute value, and shift\n",
    "plt.imshow(F, cmap = 'gray')\n",
    "plt.colorbar()"
   ]
  },
  {
   "cell_type": "markdown",
   "metadata": {},
   "source": [
    "As we can see, the result shows that the image contains components of all frequencies, but their magnitude gets smaller for higher frequencies. This means that, in our original image, there is more information contained in the lower frequencies. We acan also see the dominating directions, which originate from the more common patterns in the image."
   ]
  },
  {
   "cell_type": "markdown",
   "metadata": {},
   "source": [
    "#### 1.2 Calculando a DFT inversa\n",
    "Calcule a DFT inversa usando a função ifft2 da mesma biblioteca. Compare o resultado da DFT inversa com a imagem original, não só visualizando as imagens lado a lado, mas numericamente."
   ]
  },
  {
   "cell_type": "markdown",
   "metadata": {},
   "source": [
    "Now, let's try to obtain the original image, by running an Inverse DFT on the spectrum above."
   ]
  },
  {
   "cell_type": "code",
   "execution_count": null,
   "metadata": {},
   "outputs": [],
   "source": [
    "F=np.fft.ifft2(F) #apply inverse fft on spectrum above\n",
    "\n",
    "plt.imshow(F.real.astype(np.float),cmap='gray');"
   ]
  },
  {
   "cell_type": "markdown",
   "metadata": {},
   "source": [
    "As expected, the IDFT is not enough to obtain our original image. This is because we obtained the spectrum using the ia.dftview method on the fft of our original image \"f\". Remember that one of the things this method does is take the complex data matrix which results from the FFT and take the element-by-element absolute value. This is fine for obtaining our magnitude spectrum.\n",
    "\n",
    "The problem though, is that by doing so, we lose the phase, which is critical information for obtaining the original image. Without it, the best we can do is obtain an image with the same frequencies (and amount of frequencies) as the original input image. "
   ]
  },
  {
   "cell_type": "code",
   "execution_count": null,
   "metadata": {},
   "outputs": [],
   "source": [
    "A = np.fft.fft2(f).real #store real part of the fft of the original image\n",
    "B = np.fft.fft2(f).imag #store imaginary part of the fft of the original image\n",
    "G = np.fft.fft2(f) #store fft of the imaginary image (complex data matrix)\n",
    "\n",
    "#view Real, Phase, and Magnitude spectrums\n",
    "A = ia.dftview(A)\n",
    "B = ia.dftview(B)\n",
    "G = ia.dftview(G)\n",
    "\n",
    "plt.subplots(1,3,figsize=(12,12))\n",
    "plt.subplot(131)\n",
    "plt.title('Real Spectrum')\n",
    "plt.imshow(A, cmap = 'gray')\n",
    "plt.subplot(132)\n",
    "plt.title('Phase Spectrum')\n",
    "plt.imshow(B, cmap = 'gray')\n",
    "plt.subplot(133)\n",
    "plt.title('Magnitude Spectrum')\n",
    "plt.imshow(G, cmap = 'gray')"
   ]
  },
  {
   "cell_type": "markdown",
   "metadata": {},
   "source": [
    "This means that if we want to analyse the magnitude spectrum but still be able to recover the original image, we must store the real and the imaginary parts of the FFT:"
   ]
  },
  {
   "cell_type": "code",
   "execution_count": null,
   "metadata": {},
   "outputs": [],
   "source": [
    "plt.subplots(1,3,figsize=(12,12))\n",
    "\n",
    "#view original image\n",
    "plt.subplot(131)\n",
    "plt.imshow(f, cmap = 'gray')\n",
    "plt.title('Original Image')\n",
    "\n",
    "A = np.fft.fft2(f) #store fft of original image\n",
    "G = ia.dftview(A) #store Magnitude spectrum of image\n",
    "\n",
    "plt.subplot(132)\n",
    "plt.imshow(G, cmap = 'gray')\n",
    "plt.title('Magnitude Spectrum')\n",
    "\n",
    "#recover original image from fft with the inverse fft\n",
    "f2 = np.empty(A.shape, dtype=complex)\n",
    "f2 = np.abs(np.fft.ifft2(A))\n",
    "\n",
    "plt.subplot(133)\n",
    "plt.imshow(f2, cmap = 'gray')\n",
    "plt.title('Recovered Image')"
   ]
  },
  {
   "cell_type": "markdown",
   "metadata": {},
   "source": [
    "As you can see, in the above code, we obtained the spectrum of the image and, since we stored the complex matrix returned by the FFT, we do not rid ourselves of the phase information. This enables us to recover the original image, as shown above. Now let's check to see if the recovered image matches the original image, exactly."
   ]
  },
  {
   "cell_type": "code",
   "execution_count": null,
   "metadata": {},
   "outputs": [],
   "source": [
    "#np.set_printoptions(threshold=np.inf) #uncomment to print entire arrays\n",
    "#compare original and recovered images element by element\n",
    "if f2.all == f.all:\n",
    "    print('true')\n",
    "else: print(f2-f)"
   ]
  },
  {
   "cell_type": "markdown",
   "metadata": {},
   "source": [
    "Apparently, the recovered image is not a perfect match. It is however, completely acceptable. We can say that due to the element-by-element difference matrix printed above. As you can see, the elements are all null or so small that we could, without a problem, say that they are zero. Which means that there is no practical difference between the original and the recovered image."
   ]
  },
  {
   "cell_type": "markdown",
   "metadata": {},
   "source": [
    "### Parte 2 - Filtrando imagens no domínio da frequência"
   ]
  },
  {
   "cell_type": "markdown",
   "metadata": {},
   "source": [
    "Para realizar a filtragem no domínio da frequência, utilizamos o Teorema da Convolução, que garante que a convolução no domínio espacial equivale a um produto no domínio da frequência. \n",
    "\n",
    "Ou seja, ao invés de aplicarmos um filtro no domínio espacial através da convolução da imagem $f(x,y)$ com uma máscara $h(x,y)$ podemos aplicar um filtro no domínio da frequência através do produto da Transformada de Fourier da imagem $F(u,v)$ com a Transformada de Fourier da máscara (filtro) $H(u,v)$.\n",
    "\n",
    "Ou seja, o primeiro passo é criar um filtro $H(u,v)$ no domínio da frequência. Lembrando que:\n",
    "\n",
    "- mais fácil criar o filtro centrado e depois transladar para as pontas\n",
    "- filtro precisa ser simétrico conjungado\n",
    "- para saber mais sobre como criar um filtro passa-baixas e um filtro passa-altas, consulte o tutorial [Filtros em frequência](12_Filtros_em_frequencia.ipynb)"
   ]
  },
  {
   "cell_type": "markdown",
   "metadata": {},
   "source": [
    "#### 2.1 Projetando um filtro no domínio da frequência\n",
    "\n",
    "Utilize a função abaixo para criar 2 filtros ideais: um filtro passa-baixas (LPF) e um filtro passa-altas (HPF). Os filtros devem ser criados para filtrar a imagem do *barcode* apresentada na Parte 1 deste notebook. Visualize os filtros antes de usá-los."
   ]
  },
  {
   "cell_type": "code",
   "execution_count": null,
   "metadata": {},
   "outputs": [],
   "source": [
    "f = mpimg.imread('../data/barcode.tif') #part 1 reads: \"usaremos a imagem do cameraman\" (barcode was not used in part 1)\n",
    "plt.imshow(f,cmap = 'gray')             # but since 2.1 says to use the barcode image, we use barcode.tif in this section"
   ]
  },
  {
   "cell_type": "markdown",
   "metadata": {},
   "source": [
    "Below, we created a function to generate binary images which will act as our ideal (circular) Low and High Pass Filters:"
   ]
  },
  {
   "cell_type": "code",
   "execution_count": null,
   "metadata": {},
   "outputs": [],
   "source": [
    "# Creates ideal frequence domain filter (circle)\n",
    "def cria_filtro_ideal(f, r1, r2):\n",
    "        \n",
    "    x,y = f.shape\n",
    "    \n",
    "    c1=ia.circle(f.shape, r1, np.divide(f.shape, 2))\n",
    "    c2=ia.circle(f.shape, r2, np.divide(f.shape, 2))\n",
    "    \n",
    "    H = np.logical_xor(c1,c2)\n",
    "    H = ia.ptrans(H,(x//2,y//2))\n",
    "    H[0,0] = 1 #correct F(0,0)\n",
    "    return H"
   ]
  },
  {
   "cell_type": "markdown",
   "metadata": {},
   "source": [
    "Now, let's create Low Pass and High Pass filters using the above method and see how they affect our image:"
   ]
  },
  {
   "cell_type": "code",
   "execution_count": null,
   "metadata": {},
   "outputs": [],
   "source": [
    "LPF = cria_filtro_ideal(f,0,30) #create Low Pass Filter (LPF)\n",
    "HPF = 1 - cria_filtro_ideal(f,0,30) #create High Pass Filter (HPF) - inverse of low pass\n",
    "\n",
    "#show the filters created\n",
    "plt.subplots(1,2,figsize=(7,7))\n",
    "\n",
    "plt.subplot(121)\n",
    "plt.title('Low Pass Filter')\n",
    "plt.imshow(LPF, cmap = 'gray')\n",
    "\n",
    "plt.subplot(122)\n",
    "plt.title('High Pass Filter')\n",
    "plt.imshow(HPF, cmap = 'gray')"
   ]
  },
  {
   "cell_type": "markdown",
   "metadata": {},
   "source": [
    "Of course, if we needed, we can apply a shift to the above filters to view the actual centered circles. But there is no need to do so."
   ]
  },
  {
   "cell_type": "markdown",
   "metadata": {},
   "source": [
    "#### 2.2 Filtrando imagens no domínio da frequência\n",
    "\n",
    "Utilize os filtros FPB e FPA projetados acima para filtrar a imagem *barcode*. A filtragem deve ser feita no domínio da frequência (usando o Teorema da Convolução) e depois de calcular a Transformada de Fourier inversa, a imagem filtrada resultante deve ser visualizada no domínio espacial. Altere a frequência de corte de cada filtro e justifique sua escolha. Explique o efeito de cada um dos filtros aplicados."
   ]
  },
  {
   "cell_type": "markdown",
   "metadata": {},
   "source": [
    "Now let's apply these filters to the image and see what happens:"
   ]
  },
  {
   "cell_type": "code",
   "execution_count": null,
   "metadata": {},
   "outputs": [],
   "source": [
    "F = np.fft.fft2(f) #apply fft to original image\n",
    "G = F * LPF #multiply the fft of original image witht the LPF (Convolution in time == mulitplication in frequency)\n",
    "F2 = np.fft.ifft2(G) #get inverse fft of the filtered image (obtain filtered image in time domain)\n",
    "\n",
    "#show the magnitude spectrum, the filter, there product, and the output image\n",
    "plt.figure(1, figsize=(12,12))\n",
    "plt.subplot(1,3,1)\n",
    "plt.imshow(ia.dftview(F), cmap = 'gray')\n",
    "plt.title('Image Magnitude Spectrum')\n",
    "\n",
    "plt.subplot(1,3,2)\n",
    "plt.imshow(np.fft.fftshift(LPF),cmap='gray')\n",
    "plt.title('Ideal Low Pass Filter')\n",
    "\n",
    "plt.subplot(1,3,3)\n",
    "plt.imshow(ia.dftview(G),cmap='gray')\n",
    "plt.title('F * LPF')\n",
    "\n",
    "plt.figure(2, figsize=(8,8))\n",
    "plt.subplot(1,2,1)\n",
    "plt.imshow(f, cmap = 'gray')\n",
    "plt.title('Original Image')\n",
    "\n",
    "plt.subplot(1,2,2)\n",
    "plt.imshow(F2.real.astype(np.float),cmap='gray');\n",
    "plt.title('Filtered image')"
   ]
  },
  {
   "cell_type": "markdown",
   "metadata": {},
   "source": [
    "As expected, the image is blurred by the low pass filter. Naturally, the smaller the radius of the filter, the more blurred it will become."
   ]
  },
  {
   "cell_type": "code",
   "execution_count": null,
   "metadata": {},
   "outputs": [],
   "source": [
    "HPF = 1 - cria_filtro_ideal(f,0,8) # decrease HPF size to visualize \"sharpening\" effect without losing too much of the original image\n",
    "\n",
    "F = np.fft.fft2(f) #apply fft to original image\n",
    "G = F * HPF #multiply the fft of original image witht the HPF (Convolution in time == mulitplication in frequency)\n",
    "F2 = np.fft.ifft2(G) #get inverse fft of the filtered image (obtain filtered image in time domain)\n",
    "\n",
    "#show the magnitude spectrum, the filter, there product, and the output image\n",
    "plt.figure(1, figsize=(12,12))\n",
    "plt.subplot(1,3,1)\n",
    "plt.imshow(ia.dftview(F), cmap = 'gray')\n",
    "plt.title('Image Magnitude Spectrum')\n",
    "\n",
    "plt.subplot(1,3,2)\n",
    "plt.imshow(np.fft.fftshift(HPF),cmap='gray')\n",
    "plt.title('Ideal High Pass Filter')\n",
    "\n",
    "plt.subplot(1,3,3)\n",
    "plt.imshow(ia.dftview(G),cmap='gray')\n",
    "plt.title('F * HPF')\n",
    "\n",
    "plt.figure(2, figsize=(8,8))\n",
    "plt.subplot(1,2,1)\n",
    "plt.imshow(f, cmap = 'gray')\n",
    "plt.title('Original Image')\n",
    "\n",
    "plt.subplot(1,2,2)\n",
    "plt.imshow(F2.real.astype(np.float),cmap='gray');\n",
    "plt.title('Filtered image')"
   ]
  },
  {
   "cell_type": "markdown",
   "metadata": {},
   "source": [
    "As expected, the high pass filter sharpens the image in the sense that it emphasizes details in the images related to quick changes (high frequency), such as borders. Naturally, the smaller the image, the less focus on details there is (image looks more like the original). An example of this: radius 30 produces the image above, which is very different from the original. But if you try a radius such as 3, the image is very close to the original, but a bit \"sharpened\"."
   ]
  },
  {
   "cell_type": "markdown",
   "metadata": {},
   "source": [
    "### Parte 3 - Recuperando uma imagem *halftone*\n",
    "\n",
    "A imagem a seguir foi gerada com uma técnica conhecida por halftone (meio-tom). Esta técnica simula a ilusão de tom contínuo reproduzindo seus muitos pontos num tamanho não facilmente perceptível por quem observa. Essa ilusão de óptica é importante porque compensa a inabilidade das impressões e tintas para criar escalas de tons que vão do sólido (geralmente preto) ao tom de um papel sem tinta (geralmente branco)."
   ]
  },
  {
   "cell_type": "code",
   "execution_count": null,
   "metadata": {
    "scrolled": true
   },
   "outputs": [],
   "source": [
    "f2 = mpimg.imread('../data/halftone.png')\n",
    "\n",
    "F2 = np.fft.fft2(f2) #apply fft to halftone image\n",
    "plt.figure(1, figsize=(14,8))\n",
    "\n",
    "#show image and spectrum\n",
    "plt.subplot(1,2,1)\n",
    "plt.imshow(f2, cmap='gray')\n",
    "plt.subplot(1,2,2)\n",
    "plt.imshow(ia.dftview(F2), cmap='gray')\n"
   ]
  },
  {
   "cell_type": "markdown",
   "metadata": {},
   "source": [
    "Como podemos ver na figura da direita, o espectro de Fourier de uma imagem *halftone* apresenta uma característica bem interessante: ele apresenta cópias do espectro original espalhadas nas alta frequências.\n",
    "\n",
    "Projete e utilize um filtro no domínio da frequência para melhorar a qualidade da imagem *halftone*. Explique sua solução."
   ]
  },
  {
   "cell_type": "code",
   "execution_count": null,
   "metadata": {},
   "outputs": [],
   "source": [
    "LPF = cria_filtro_ideal(f2,0,75) #create a LPF\n",
    "\n",
    "F = np.fft.fft2(f2) #apply fft to original image\n",
    "G = F * LPF #multiply the fft of original image witht the LPF (Convolution in time == mulitplication in frequency)\n",
    "F2 = np.fft.ifft2(G) #get inverse fft of the filtered image (obtain filtered image in time domain)\n",
    "\n",
    "#show the magnitude spectrum, the filter, there product, and the output image\n",
    "plt.subplots(2,2, figsize=(13.2,20))\n",
    "\n",
    "plt.subplot(221)\n",
    "plt.title('Halftone Image Spectrum')\n",
    "plt.imshow(ia.dftview(F), cmap = 'gray')\n",
    "\n",
    "plt.subplot(222)\n",
    "plt.title('Low Pass Filter')\n",
    "plt.imshow(np.fft.fftshift(LPF), cmap = 'gray')\n",
    "\n",
    "plt.subplot(223)\n",
    "plt.title('F2*LPF')\n",
    "plt.imshow(ia.dftview(G), cmap = 'gray')\n",
    "\n",
    "plt.subplot(224)\n",
    "plt.title('Filtered Image')\n",
    "plt.imshow(F2.real.astype(np.float),cmap='gray');"
   ]
  },
  {
   "cell_type": "markdown",
   "metadata": {},
   "source": [
    "As we can see, the low pass filter applied greatly increases the quality of the image. It works because as we can see comparing the original spectrum with the \"F2 * BPF\" spectrum, we eliminate the various high-frequency copies of the spectrum. Since we keep only low frequency, the result image, of course, is slightly blurred. But this is acceptable seeing as that despite a bit blurred, the result image is much better than the original. \n",
    "\n",
    "OBS: Here we chose a radius of 75 for the LPF because it neatly isolates the original spectrum from its high frequence copies, and loses as little information as possible (if we increase the size the image worsens, if we decrease the size, the image blurs more than necessary)."
   ]
  },
  {
   "cell_type": "markdown",
   "metadata": {},
   "source": [
    "What we could also do, following the low pass filter, is apply a very small high pass filter, to very lightly sharpen the image. That is what we do below. It is important to remember, however, that wether or not you chose to do this, depends on your specific needs (as do the sizes of the filters)."
   ]
  },
  {
   "cell_type": "code",
   "execution_count": null,
   "metadata": {},
   "outputs": [],
   "source": [
    "HPF = 1 - cria_filtro_ideal(f2,0,3) #create high pass filter\n",
    "\n",
    "G = G * HPF #multiply the fft of original image witht the HPF (Convolution in time == mulitplication in frequency)\n",
    "F3 = np.fft.ifft2(G) #get inverse fft of the filtered image (obtain filtered image in time domain)\n",
    "\n",
    "plt.title('Twice Filtered Image')\n",
    "plt.imshow(F3.real.astype(np.float),cmap='gray');"
   ]
  },
  {
   "cell_type": "code",
   "execution_count": null,
   "metadata": {},
   "outputs": [],
   "source": []
  }
 ],
 "metadata": {
  "kernelspec": {
   "display_name": "Python 3",
   "language": "python",
   "name": "python3"
  },
  "language_info": {
   "codemirror_mode": {
    "name": "ipython",
    "version": 3
   },
   "file_extension": ".py",
   "mimetype": "text/x-python",
   "name": "python",
   "nbconvert_exporter": "python",
   "pygments_lexer": "ipython3",
   "version": "3.7.6"
  }
 },
 "nbformat": 4,
 "nbformat_minor": 2
}
