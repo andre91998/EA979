{
 "cells": [
  {
   "cell_type": "markdown",
   "metadata": {},
   "source": [
    "# Ex06 - Introdução ao OpenGL\n",
    "\n",
    "Nesta atividade, vocês vão exercitar os primeiros conceitos de OpenGL. Para evitar erros de execução, utilize apenas uma célula de código para cada parte desta atividade."
   ]
  },
  {
   "cell_type": "markdown",
   "metadata": {},
   "source": [
    "### Parte 1 - Renderização de objetos simples\n",
    "\n",
    "Crie um programa que reproduza uma imagem semelhante à imagem abaixo (triângulos nos cantos e um quadrado no centro). O tamanho e cor dos objetos e a cor do background é livre, mas as arestas dos triângulos devem estar coladas nos cantos da janela. Você pode usar como base os notebooks notebook ([17_Primeiro_programa_OpenGL](17_Primeiro_programa_OpenGL.ipynb)), ([18_Configurando_uma_cor_unica_para_todos_os_vertices](18_Configurando_uma_cor_unica_para_todos_os_vertices.ipynb)) e ([19_Renderizando_mais_de_um_objeto](19_Renderizando_mais_de_um_objeto.ipynb))."
   ]
  },
  {
   "cell_type": "markdown",
   "metadata": {},
   "source": [
    "![title](cg/images/ex6_image.png)"
   ]
  },
  {
   "cell_type": "markdown",
   "metadata": {},
   "source": [
    "### Parte 2 - Animação\n",
    "\n",
    "Crie um programa que tenha um objeto (triângulo, quadrado, etc) desenhado no centro, e que as cores deste objeto e do background mudam ao longo do tempo. Você pode usar como base o notebook ([20_Animando_as_cores_dos_triangulos](20_Animando_as_cores_dos_triangulos.ipynb))"
   ]
  },
  {
   "cell_type": "markdown",
   "metadata": {},
   "source": [
    "### Parte 3 - Evento de teclado\n",
    "\n",
    "Crie um programa que tenha um objeto (triângulo, quadrado, etc) desenhado e utilize a setas do teclado para deslocar este objeto na janela. O objeto deve se deslocar na direção da teclada pressionada. Você pode usar como base o notebook ([24_Eventos_do_teclado.ipynb](24_Eventos_do_teclado.ipynb))"
   ]
  },
  {
   "cell_type": "code",
   "execution_count": null,
   "metadata": {
    "collapsed": true
   },
   "outputs": [],
   "source": []
  }
 ],
 "metadata": {
  "kernelspec": {
   "display_name": "Python 3",
   "language": "python",
   "name": "python3"
  },
  "language_info": {
   "codemirror_mode": {
    "name": "ipython",
    "version": 3
   },
   "file_extension": ".py",
   "mimetype": "text/x-python",
   "name": "python",
   "nbconvert_exporter": "python",
   "pygments_lexer": "ipython3",
   "version": "3.7.6"
  }
 },
 "nbformat": 4,
 "nbformat_minor": 2
}
