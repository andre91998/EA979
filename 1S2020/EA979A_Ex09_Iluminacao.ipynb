{
 "cells": [
  {
   "cell_type": "markdown",
   "metadata": {},
   "source": [
    "# Ex9 - Iluminação\n",
    "\n",
    "Nesta atividade, vocês vão exercitar os conceitos alguns dos conceitos de iluminação. Para evitar erros de execução, utilize apenas uma célula de código para cada parte desta atividade."
   ]
  },
  {
   "cell_type": "markdown",
   "metadata": {},
   "source": [
    "Crie uma cena escura contendo terreno e outros objetos, e um objeto não afetado pela iluminação representando a fonte de luz. Utilize as teclas do teclado para controlar a posição deste objeto e, consequentemente, da fonte de luz. Mais especificamente, utilize as setas esquerda e direita para deslocar no eixo x, e as setas 'para cima' e 'para baixo' deslocam no eixo y. Além disso, utilize as teclas + e - para deslocar no eixo z. Para iluminar com mais intensidade apenas os objetos que estão mais próximo da fonte de luz e deixar os objetos mais distance mais escuros, tente alterar os parâmetros 'constante', 'linear' e 'exponencial' da equação de atenuação (figura a baixo, em que L_1 = intensidade da luz, L_distance = intensidade atenuada) através, respectivamente, dos métodos 'setUniformLightConstantAttenuation', 'setUniformLightLinearAttenuation' e 'setUniformLightQuadraticAttenuation' da classe PhongShadingShaderProgram. Uma vez que será preciso renderizar objetos com e sem iluminação, será preciso utilizar mais de um shader no mesmo programa. Veja no notebook ([32_Esferas_com_diferentes_shader_programs](32_Esferas_com_diferentes_shader_programs.ipynb)) como isso pode ser feito."
   ]
  },
  {
   "cell_type": "markdown",
   "metadata": {},
   "source": [
    "<td><img src='cg/images/ex9_image_att.png'>"
   ]
  },
  {
   "cell_type": "markdown",
   "metadata": {},
   "source": [
    "### Parte 1 - Cena com fonte de luz pontual\n",
    "\n",
    "Programe a cena descrita acima utilizando uma fonte de luz pontual ([33_Terreno_com_esferas_iluminacao_fonte_de_luz_pontual](33_Terreno_com_esferas_iluminacao_fonte_de_luz_pontual.ipynb)). As imagens abaixo ilustram o efeito esperado ao movimentar a fonte de luz pela cena."
   ]
  },
  {
   "cell_type": "markdown",
   "metadata": {},
   "source": [
    "<table>\n",
    "    <tr>\n",
    "        <td> <img src='cg/images/ex9_image.png' style=\"width:400px\"> </td>\n",
    "        <td> <img src='cg/images/ex9_image_1.png' style=\"width:400px\"></td>\n",
    "        <td> <img src='cg/images/ex9_image_2.png' style=\"width:400px\"></td>\n",
    "    </tr>\n",
    "</table>"
   ]
  },
  {
   "cell_type": "markdown",
   "metadata": {},
   "source": [
    "### Parte 2 - Cena com fonte de luz 'spotlight'\n",
    "\n",
    "Programe a cena descrita acima utilizando uma fonte de luz tipo 'spotlight' ([35_Terreno_com_esferas_iluminacao_fonte_de_luz_spotlight](35_Terreno_com_esferas_iluminacao_fonte_de_luz_spotlight.ipynb)). Neste caso, utilize também as setas 'A', 'D', 'W' e 'S' para alterar as componentes 'xy' da direção da luz. As imagens abaixo ilustram o efeito esperado ao movimentar a fonte de luz pela cena."
   ]
  },
  {
   "cell_type": "markdown",
   "metadata": {},
   "source": [
    "<table>\n",
    "    <tr>\n",
    "        <td> <img src='cg/images/ex9_image_3.png' style=\"width:400px\"> </td>\n",
    "        <td> <img src='cg/images/ex9_image_4.png' style=\"width:400px\"></td>\n",
    "        <td> <img src='cg/images/ex9_image_5.png' style=\"width:400px\"></td>\n",
    "    </tr>\n",
    "</table>"
   ]
  },
  {
   "cell_type": "code",
   "execution_count": null,
   "metadata": {
    "collapsed": true
   },
   "outputs": [],
   "source": []
  }
 ],
 "metadata": {
  "kernelspec": {
   "display_name": "Python 3",
   "language": "python",
   "name": "python3"
  },
  "language_info": {
   "codemirror_mode": {
    "name": "ipython",
    "version": 3
   },
   "file_extension": ".py",
   "mimetype": "text/x-python",
   "name": "python",
   "nbconvert_exporter": "python",
   "pygments_lexer": "ipython3",
   "version": "3.6.1"
  }
 },
 "nbformat": 4,
 "nbformat_minor": 2
}
